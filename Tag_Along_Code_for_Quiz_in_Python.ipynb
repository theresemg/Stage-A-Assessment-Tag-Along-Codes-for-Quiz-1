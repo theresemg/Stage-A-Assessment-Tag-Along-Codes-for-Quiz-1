{
  "nbformat": 4,
  "nbformat_minor": 0,
  "metadata": {
    "colab": {
      "provenance": []
    },
    "kernelspec": {
      "name": "python3",
      "display_name": "Python 3"
    },
    "language_info": {
      "name": "python"
    }
  },
  "cells": [
    {
      "cell_type": "code",
      "execution_count": 22,
      "metadata": {
        "id": "4MqWIVJ_fy50"
      },
      "outputs": [],
      "source": [
        "import pandas as pd\n",
        "import numpy as np\n",
        "import matplotlib.pyplot as plt\n",
        "import seaborn as sns"
      ]
    },
    {
      "cell_type": "code",
      "source": [
        "df = pd.read_csv('FoodBalanceSheets_E_Africa_NOFLAG.csv', encoding='latin-1')"
      ],
      "metadata": {
        "id": "PgHOoCufkT50"
      },
      "execution_count": 23,
      "outputs": []
    },
    {
      "cell_type": "code",
      "source": [
        "import pandas as pd\n",
        "\n",
        "# Selecting the 'Y2017' and 'Area' columns\n",
        "df_subset = df[['Y2017', 'Area']]\n",
        "\n",
        "# Grouping by 'Area' and calculating the sum of 'Y2017' for each area\n",
        "grouped = df_subset.groupby('Area')['Y2017'].sum()\n",
        "\n",
        "# Sorting the grouped data in ascending order and selecting the 7th area\n",
        "seventh_lowest_area = grouped.sort_values().index[6]\n",
        "\n",
        "print(seventh_lowest_area)"
      ],
      "metadata": {
        "colab": {
          "base_uri": "https://localhost:8080/"
        },
        "id": "DIExPHPulMKV",
        "outputId": "7216a9d2-a99d-4771-b5e9-91052f298a7a"
      },
      "execution_count": 24,
      "outputs": [
        {
          "output_type": "stream",
          "name": "stdout",
          "text": [
            "Guinea-Bissau\n"
          ]
        }
      ]
    },
    {
      "cell_type": "code",
      "source": [
        "\n",
        "# Grouping by 'Element' and calculating the sum of 'Stock Variation' for each element and year\n",
        "grouped = df.groupby(['Element'])['Y2014', 'Y2015', 'Y2016', 'Y2017'].sum()\n",
        "\n",
        "# Finding the year with the highest sum of Stock Variation\n",
        "year_with_highest_sum = grouped.sum().idxmax()\n",
        "\n",
        "print(year_with_highest_sum)\n"
      ],
      "metadata": {
        "colab": {
          "base_uri": "https://localhost:8080/"
        },
        "id": "swzKjxOkoSpf",
        "outputId": "95761c11-3c0d-4cc6-ee46-54ddd0a4db78"
      },
      "execution_count": 25,
      "outputs": [
        {
          "output_type": "stream",
          "name": "stdout",
          "text": [
            "Y2017\n"
          ]
        },
        {
          "output_type": "stream",
          "name": "stderr",
          "text": [
            "<ipython-input-25-66080a988699>:2: FutureWarning: Indexing with multiple keys (implicitly converted to a tuple of keys) will be deprecated, use a list instead.\n",
            "  grouped = df.groupby(['Element'])['Y2014', 'Y2015', 'Y2016', 'Y2017'].sum()\n"
          ]
        }
      ]
    },
    {
      "cell_type": "code",
      "source": [
        "# Filter the DataFrame for Wine and select the 'Item' and the desired years\n",
        "wine_df = df[df['Item'] == 'Wine'][['Item', 'Y2015', 'Y2018']]\n",
        "\n",
        "# Calculate the sum of Wine produced in 2015 and 2018\n",
        "sum_2015 = wine_df['Y2015'].sum()\n",
        "sum_2018 = wine_df['Y2018'].sum()\n",
        "\n",
        "print(sum_2015, sum_2018)\n"
      ],
      "metadata": {
        "colab": {
          "base_uri": "https://localhost:8080/"
        },
        "id": "nsxL6nMzo6w3",
        "outputId": "2138601f-dd1c-4003-ede4-eb8e38c99391"
      },
      "execution_count": 26,
      "outputs": [
        {
          "output_type": "stream",
          "name": "stdout",
          "text": [
            "4251.8099999999995 4039.3199999999997\n"
          ]
        }
      ]
    },
    {
      "cell_type": "code",
      "source": [
        "# Calculate the correlation between 'Element Code' and each year\n",
        "correlations = df[['Element Code', 'Y2014', 'Y2015', 'Y2016', 'Y2017']].corr()\n",
        "\n",
        "# Find the year with the least correlation\n",
        "year_with_least_correlation = correlations['Element Code'].idxmin()\n",
        "\n",
        "print(year_with_least_correlation)\n"
      ],
      "metadata": {
        "colab": {
          "base_uri": "https://localhost:8080/"
        },
        "id": "8JSUsQMapMv4",
        "outputId": "ef90c7e5-8001-4805-9f20-9121af24c660"
      },
      "execution_count": 27,
      "outputs": [
        {
          "output_type": "stream",
          "name": "stdout",
          "text": [
            "Y2016\n"
          ]
        }
      ]
    },
    {
      "cell_type": "code",
      "source": [
        "import pandas as pd\n",
        "\n",
        "# Filter the DataFrame for Madagascar and select the 'Protein supply quantity (g/capita/day)' column for 2015\n",
        "madagascar_2015 = df[(df['Area'] == 'Madagascar') & (df['Element'] == 'Protein supply quantity (g/capita/day)')]['Y2015']\n",
        "\n",
        "# Calculate the total Protein supply quantity in Madagascar in 2015\n",
        "total_protein_supply_2015 = madagascar_2015.sum()\n",
        "\n",
        "print(total_protein_supply_2015)\n"
      ],
      "metadata": {
        "colab": {
          "base_uri": "https://localhost:8080/"
        },
        "id": "_xJkR34fpg1Q",
        "outputId": "5098484a-401a-4b06-d59f-ebc5b5f5c2a5"
      },
      "execution_count": 28,
      "outputs": [
        {
          "output_type": "stream",
          "name": "stdout",
          "text": [
            "173.04999999999998\n"
          ]
        }
      ]
    },
    {
      "cell_type": "code",
      "source": [
        "import pandas as pd\n",
        "\n",
        "# Select the 'Y2017' column from the DataFrame\n",
        "y2017_data = df['Y2017']\n",
        "\n",
        "# Calculate the mean and standard deviation for the year 2017\n",
        "mean_2017 = y2017_data.mean()\n",
        "std_2017 = y2017_data.std()\n",
        "\n",
        "print(round(mean_2017, 2), round(std_2017, 2))\n"
      ],
      "metadata": {
        "colab": {
          "base_uri": "https://localhost:8080/"
        },
        "id": "SuIQZk60qAuH",
        "outputId": "199f9497-3e63-4e98-8d1c-37e28f54b37f"
      },
      "execution_count": 29,
      "outputs": [
        {
          "output_type": "stream",
          "name": "stdout",
          "text": [
            "140.92 1671.86\n"
          ]
        }
      ]
    },
    {
      "cell_type": "code",
      "source": [
        "import pandas as pd\n",
        "\n",
        "# Calculate the total number of unique countries in the dataset\n",
        "unique_countries = df['Area'].nunique()\n",
        "\n",
        "print(unique_countries)\n"
      ],
      "metadata": {
        "colab": {
          "base_uri": "https://localhost:8080/"
        },
        "id": "MBvZiRhEqMwy",
        "outputId": "52d64d75-3cbd-489e-ae28-d55f7276abcd"
      },
      "execution_count": 30,
      "outputs": [
        {
          "output_type": "stream",
          "name": "stdout",
          "text": [
            "49\n"
          ]
        }
      ]
    },
    {
      "cell_type": "code",
      "source": [
        "import pandas as pd\n",
        "\n",
        "# Select the 'Y2014' column from the DataFrame\n",
        "y2014_data = df['Y2014']\n",
        "\n",
        "# Calculate the total number of missing values in 2014\n",
        "missing_count = y2014_data.isnull().sum()\n",
        "\n",
        "# Calculate the percentage of missing values in 2014\n",
        "total_count = len(y2014_data)\n",
        "missing_percentage = (missing_count / total_count) * 100\n",
        "\n",
        "print(missing_count, round(missing_percentage, 3))\n"
      ],
      "metadata": {
        "colab": {
          "base_uri": "https://localhost:8080/"
        },
        "id": "nCBd9EDfqm2X",
        "outputId": "974793e1-b140-47ea-9fde-b4d8599141bb"
      },
      "execution_count": 31,
      "outputs": [
        {
          "output_type": "stream",
          "name": "stdout",
          "text": [
            "1589 2.607\n"
          ]
        }
      ]
    },
    {
      "cell_type": "code",
      "source": [
        "import pandas as pd\n",
        "\n",
        "# Grouping by 'Element' and calculating the sum of 'Y2017' for each element\n",
        "grouped = df.groupby('Element')['Y2017'].sum()\n",
        "\n",
        "# Selecting the sum of Processing in 2017\n",
        "processing_sum_2017 = grouped['Processing']\n",
        "\n",
        "print(processing_sum_2017)"
      ],
      "metadata": {
        "colab": {
          "base_uri": "https://localhost:8080/"
        },
        "id": "wVV0C-9hrATb",
        "outputId": "daeefd01-cea8-4d93-dd6b-38306efff682"
      },
      "execution_count": 32,
      "outputs": [
        {
          "output_type": "stream",
          "name": "stdout",
          "text": [
            "292836.0\n"
          ]
        }
      ]
    },
    {
      "cell_type": "code",
      "source": [
        "import pandas as pd\n",
        "\n",
        "# Selecting the 'Y2017' and 'Area' columns\n",
        "df_subset = df[['Y2017', 'Area']]\n",
        "\n",
        "# Grouping by 'Area' and calculating the sum of 'Y2017' for each area\n",
        "grouped = df_subset.groupby('Area')['Y2017'].sum()\n",
        "\n",
        "# Finding the area with the highest sum in 2017\n",
        "area_with_highest_sum = grouped.idxmax()\n",
        "\n",
        "print(area_with_highest_sum)"
      ],
      "metadata": {
        "colab": {
          "base_uri": "https://localhost:8080/"
        },
        "id": "miRPVCdUrSlQ",
        "outputId": "68dcac34-c4bd-4499-fe79-5273e0d0be33"
      },
      "execution_count": 33,
      "outputs": [
        {
          "output_type": "stream",
          "name": "stdout",
          "text": [
            "Nigeria\n"
          ]
        }
      ]
    }
  ]
}